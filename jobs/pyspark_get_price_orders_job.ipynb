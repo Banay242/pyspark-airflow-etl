{
 "cells": [
  {
   "cell_type": "code",
   "id": "initial_id",
   "metadata": {
    "collapsed": true,
    "ExecuteTime": {
     "end_time": "2025-07-30T02:47:50.091470Z",
     "start_time": "2025-07-30T02:47:50.085471Z"
    }
   },
   "source": [
    "from pyspark.sql.session import SparkSession\n",
    "from pyspark.sql import functions as F\n",
    "\n",
    "spark = SparkSession.builder.appName(\"spark_orders_job\").config(\"spark.driver.memory\", \"16g\").getOrCreate()\n",
    "\n",
    "print(\"Done!\", spark.sparkContext.uiWebUrl)"
   ],
   "outputs": [
    {
     "name": "stdout",
     "output_type": "stream",
     "text": [
      "Done! http://DESKTOP-BHGT2IG:4040\n"
     ]
    }
   ],
   "execution_count": 89
  },
  {
   "metadata": {
    "ExecuteTime": {
     "end_time": "2025-07-30T02:47:50.103157Z",
     "start_time": "2025-07-30T02:47:50.100039Z"
    }
   },
   "cell_type": "code",
   "source": [
    "PATH_ORD = r'C:\\projects\\etl\\pyspark_airflow\\data\\orders.csv'\n",
    "PATH_PDT = r'C:\\projects\\etl\\pyspark_airflow\\data\\products.csv'"
   ],
   "id": "bdfb7de9d4082989",
   "outputs": [],
   "execution_count": 90
  },
  {
   "metadata": {
    "ExecuteTime": {
     "end_time": "2025-07-30T02:47:50.232180Z",
     "start_time": "2025-07-30T02:47:50.107936Z"
    }
   },
   "cell_type": "code",
   "source": [
    "orders = spark.read.csv(path=PATH_ORD, header=True)\n",
    "products = spark.read.csv(path=PATH_PDT, header=True)"
   ],
   "id": "59d882c464080049",
   "outputs": [],
   "execution_count": 91
  },
  {
   "metadata": {
    "ExecuteTime": {
     "end_time": "2025-07-30T02:47:50.250900Z",
     "start_time": "2025-07-30T02:47:50.236321Z"
    }
   },
   "cell_type": "code",
   "source": [
    "products = (\n",
    "    products\n",
    "    .withColumn(\"product_id\", F.col(\"product_id\").cast(\"int\"))\n",
    "    .withColumn(\"price\", F.col(\"price\").cast(\"int\"))\n",
    ")"
   ],
   "id": "3a84eb5201b1b442",
   "outputs": [],
   "execution_count": 92
  },
  {
   "metadata": {
    "ExecuteTime": {
     "end_time": "2025-07-30T02:47:50.270171Z",
     "start_time": "2025-07-30T02:47:50.254908Z"
    }
   },
   "cell_type": "code",
   "source": [
    "json_sample = '[\"234\", \"23\"]'\n",
    "json_schema = F.schema_of_json(json_sample)\n",
    "\n",
    "orders = (\n",
    "    orders\n",
    "    .withColumn(\"order_id\", F.col(\"order_id\").cast(\"int\"))\n",
    "    .withColumn(\"creation_time\", F.to_timestamp(\"creation_time\", \"dd/MM/yy HH:mm\"))\n",
    "    .withColumn(\"product_ids\", F.from_json(\"product_ids\", json_schema))\n",
    ")"
   ],
   "id": "5d6001681e30f75",
   "outputs": [],
   "execution_count": 93
  },
  {
   "metadata": {
    "ExecuteTime": {
     "end_time": "2025-07-30T02:47:50.282098Z",
     "start_time": "2025-07-30T02:47:50.273177Z"
    }
   },
   "cell_type": "code",
   "source": [
    "orders_exploded = orders.select(\n",
    "    \"order_id\",\n",
    "    \"creation_time\",\n",
    "    F.explode(\"product_ids\").alias(\"product_id\")\n",
    ")"
   ],
   "id": "3d5d1aebfaabf6dd",
   "outputs": [],
   "execution_count": 94
  },
  {
   "metadata": {
    "ExecuteTime": {
     "end_time": "2025-07-30T02:47:50.333358Z",
     "start_time": "2025-07-30T02:47:50.287104Z"
    }
   },
   "cell_type": "code",
   "source": "orders_exploded.show()",
   "id": "4bd3ccd4ab089f05",
   "outputs": [
    {
     "name": "stdout",
     "output_type": "stream",
     "text": [
      "+--------+-------------------+----------+\n",
      "|order_id|      creation_time|product_id|\n",
      "+--------+-------------------+----------+\n",
      "|       1|2022-08-24 01:52:00|        65|\n",
      "|       1|2022-08-24 01:52:00|        28|\n",
      "|       2|2022-08-24 06:37:00|        35|\n",
      "|       2|2022-08-24 06:37:00|        30|\n",
      "|       2|2022-08-24 06:37:00|        42|\n",
      "|       2|2022-08-24 06:37:00|        34|\n",
      "|       3|2022-08-24 07:35:00|        24|\n",
      "|       3|2022-08-24 07:35:00|        70|\n",
      "|       3|2022-08-24 07:35:00|        77|\n",
      "|       4|2022-08-24 10:39:00|        72|\n",
      "|       4|2022-08-24 10:39:00|        40|\n",
      "|       4|2022-08-24 10:39:00|        20|\n",
      "|       5|2022-08-24 12:34:00|        48|\n",
      "|       6|2022-08-24 13:46:00|        76|\n",
      "|       6|2022-08-24 13:46:00|        52|\n",
      "|       6|2022-08-24 13:46:00|        65|\n",
      "|       6|2022-08-24 13:46:00|        75|\n",
      "|       6|2022-08-24 13:46:00|        77|\n",
      "|       7|2022-08-24 13:59:00|        35|\n",
      "|       7|2022-08-24 13:59:00|        74|\n",
      "+--------+-------------------+----------+\n",
      "only showing top 20 rows\n"
     ]
    }
   ],
   "execution_count": 95
  },
  {
   "metadata": {
    "ExecuteTime": {
     "end_time": "2025-07-30T02:47:50.345532Z",
     "start_time": "2025-07-30T02:47:50.337298Z"
    }
   },
   "cell_type": "code",
   "source": "res = orders_exploded.join(products, on=\"product_id\", how=\"left\")\n",
   "id": "c6aee22adf50ef0a",
   "outputs": [],
   "execution_count": 96
  },
  {
   "metadata": {
    "ExecuteTime": {
     "end_time": "2025-07-30T02:47:50.358986Z",
     "start_time": "2025-07-30T02:47:50.351083Z"
    }
   },
   "cell_type": "code",
   "source": [
    "res = res.select(\n",
    "    \"order_id\",\n",
    "    \"product_id\",\n",
    "    \"price\"\n",
    ")"
   ],
   "id": "da883ac8acfd16fc",
   "outputs": [],
   "execution_count": 97
  },
  {
   "metadata": {
    "ExecuteTime": {
     "end_time": "2025-07-30T02:47:50.371777Z",
     "start_time": "2025-07-30T02:47:50.361995Z"
    }
   },
   "cell_type": "code",
   "source": [
    "res = (\n",
    "    res\n",
    "    .orderBy(F.col(\"order_id\"), F.col(\"product_id\"))\n",
    "    .limit(1000)\n",
    ")"
   ],
   "id": "5d5364b9a3fbc296",
   "outputs": [],
   "execution_count": 98
  },
  {
   "metadata": {
    "ExecuteTime": {
     "end_time": "2025-07-30T02:47:50.904011Z",
     "start_time": "2025-07-30T02:47:50.376783Z"
    }
   },
   "cell_type": "code",
   "source": "res.show()",
   "id": "f77ae2ad3b12a2cf",
   "outputs": [
    {
     "name": "stdout",
     "output_type": "stream",
     "text": [
      "+--------+----------+-----+\n",
      "|order_id|product_id|price|\n",
      "+--------+----------+-----+\n",
      "|       1|        28|   75|\n",
      "|       1|        65|  100|\n",
      "|       2|        30|  140|\n",
      "|       2|        34|   98|\n",
      "|       2|        35|   90|\n",
      "|       2|        42|   66|\n",
      "|       3|        24|  120|\n",
      "|       3|        70|   75|\n",
      "|       3|        77|  298|\n",
      "|       4|        20|   50|\n",
      "|       4|        40|   40|\n",
      "|       4|        72|   66|\n",
      "|       5|        48|   51|\n",
      "|       6|        52|   76|\n",
      "|       6|        65|  100|\n",
      "|       6|        75|  120|\n",
      "|       6|        76|   56|\n",
      "|       6|        77|  298|\n",
      "|       7|        15|  450|\n",
      "|       7|        34|   98|\n",
      "+--------+----------+-----+\n",
      "only showing top 20 rows\n"
     ]
    }
   ],
   "execution_count": 99
  }
 ],
 "metadata": {
  "kernelspec": {
   "display_name": "Python 3",
   "language": "python",
   "name": "python3"
  },
  "language_info": {
   "codemirror_mode": {
    "name": "ipython",
    "version": 2
   },
   "file_extension": ".py",
   "mimetype": "text/x-python",
   "name": "python",
   "nbconvert_exporter": "python",
   "pygments_lexer": "ipython2",
   "version": "2.7.6"
  }
 },
 "nbformat": 4,
 "nbformat_minor": 5
}
